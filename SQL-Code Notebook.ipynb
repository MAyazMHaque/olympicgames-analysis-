{
    "metadata": {
        "kernelspec": {
            "name": "SQL",
            "display_name": "SQL",
            "language": "sql"
        },
        "language_info": {
            "name": "sql",
            "version": ""
        }
    },
    "nbformat_minor": 2,
    "nbformat": 4,
    "cells": [
        {
            "cell_type": "code",
            "source": [
                "SELECT * \r\n",
                "FROM countries"
            ],
            "metadata": {
                "azdata_cell_guid": "62b692a9-0522-4839-999f-cc1decbf2a7e",
                "language": "sql"
            },
            "outputs": [
                {
                    "output_type": "display_data",
                    "data": {
                        "text/html": "(203 rows affected)"
                    },
                    "metadata": {}
                },
                {
                    "output_type": "display_data",
                    "data": {
                        "text/html": "Total execution time: 00:00:00.045"
                    },
                    "metadata": {}
                },
                {
                    "output_type": "execute_result",
                    "metadata": {},
                    "execution_count": 1,
                    "data": {
                        "application/vnd.dataresource+json": {
                            "schema": {
                                "fields": [
                                    {
                                        "name": "id"
                                    },
                                    {
                                        "name": "country"
                                    },
                                    {
                                        "name": "region"
                                    }
                                ]
                            },
                            "data": [
                                {
                                    "0": "1",
                                    "1": "AFG - Afghanistan",
                                    "2": "ASIA (EX. NEAR EAST)         "
                                },
                                {
                                    "0": "2",
                                    "1": "ALB - Albania",
                                    "2": "EASTERN EUROPE                     "
                                },
                                {
                                    "0": "3",
                                    "1": "ALG - Algeria",
                                    "2": "NORTHERN AFRICA                    "
                                },
                                {
                                    "0": "4",
                                    "1": "ASA - American Samoa",
                                    "2": "OCEANIA                            "
                                },
                                {
                                    "0": "5",
                                    "1": "AND - Andorra",
                                    "2": "WESTERN EUROPE                     "
                                },
                                {
                                    "0": "6",
                                    "1": "ANG - Angola",
                                    "2": "SUB-SAHARAN AFRICA                 "
                                },
                                {
                                    "0": "7",
                                    "1": "ANT - Antigua and Barbuda",
                                    "2": "LATIN AMER. & CARIB    "
                                },
                                {
                                    "0": "8",
                                    "1": "ARG - Argentina",
                                    "2": "LATIN AMER. & CARIB    "
                                },
                                {
                                    "0": "9",
                                    "1": "ARM - Armenia",
                                    "2": "C.W. OF IND. STATES "
                                },
                                {
                                    "0": "10",
                                    "1": "ARU - Aruba",
                                    "2": "LATIN AMER. & CARIB    "
                                },
                                {
                                    "0": "11",
                                    "1": "AUS - Australia",
                                    "2": "OCEANIA                            "
                                },
                                {
                                    "0": "12",
                                    "1": "AUT - Austria",
                                    "2": "WESTERN EUROPE                     "
                                },
                                {
                                    "0": "13",
                                    "1": "AZE - Azerbaijan",
                                    "2": "C.W. OF IND. STATES "
                                },
                                {
                                    "0": "14",
                                    "1": "BAH - Bahamas",
                                    "2": "LATIN AMER. & CARIB    "
                                },
                                {
                                    "0": "15",
                                    "1": "BRN - Bahrain",
                                    "2": "NEAR EAST                          "
                                },
                                {
                                    "0": "16",
                                    "1": "BAN - Bangladesh",
                                    "2": "ASIA (EX. NEAR EAST)         "
                                },
                                {
                                    "0": "17",
                                    "1": "BAR - Barbados",
                                    "2": "LATIN AMER. & CARIB    "
                                },
                                {
                                    "0": "18",
                                    "1": "BLR - Belarus",
                                    "2": "C.W. OF IND. STATES "
                                },
                                {
                                    "0": "19",
                                    "1": "BEL - Belgium",
                                    "2": "WESTERN EUROPE                     "
                                },
                                {
                                    "0": "20",
                                    "1": "BIZ - Belize",
                                    "2": "LATIN AMER. & CARIB    "
                                },
                                {
                                    "0": "21",
                                    "1": "BEN - Benin",
                                    "2": "SUB-SAHARAN AFRICA                 "
                                },
                                {
                                    "0": "22",
                                    "1": "BER - Bermuda",
                                    "2": "NORTHERN AMERICA                   "
                                },
                                {
                                    "0": "23",
                                    "1": "BOL - Bolivia",
                                    "2": "LATIN AMER. & CARIB    "
                                },
                                {
                                    "0": "24",
                                    "1": "BIH - Bosnia and Herzegovina",
                                    "2": "EASTERN EUROPE                     "
                                },
                                {
                                    "0": "25",
                                    "1": "BOT - Botswana",
                                    "2": "SUB-SAHARAN AFRICA                 "
                                },
                                {
                                    "0": "26",
                                    "1": "BRA - Brazil",
                                    "2": "LATIN AMER. & CARIB    "
                                },
                                {
                                    "0": "27",
                                    "1": "IVB - British Virgin Islands",
                                    "2": "LATIN AMER. & CARIB    "
                                },
                                {
                                    "0": "28",
                                    "1": "BRU - Brunei",
                                    "2": "ASIA (EX. NEAR EAST)         "
                                },
                                {
                                    "0": "29",
                                    "1": "BUL - Bulgaria",
                                    "2": "EASTERN EUROPE                     "
                                },
                                {
                                    "0": "30",
                                    "1": "BUR - Burkina Faso",
                                    "2": "SUB-SAHARAN AFRICA                 "
                                },
                                {
                                    "0": "31",
                                    "1": "BDI - Burundi",
                                    "2": "SUB-SAHARAN AFRICA                 "
                                },
                                {
                                    "0": "32",
                                    "1": "CAM - Cambodia",
                                    "2": "ASIA (EX. NEAR EAST)         "
                                },
                                {
                                    "0": "33",
                                    "1": "CMR - Cameroon",
                                    "2": "SUB-SAHARAN AFRICA                 "
                                },
                                {
                                    "0": "34",
                                    "1": "CAN - Canada",
                                    "2": "NORTHERN AMERICA                   "
                                },
                                {
                                    "0": "35",
                                    "1": "CPV - Cape Verde",
                                    "2": "SUB-SAHARAN AFRICA                 "
                                },
                                {
                                    "0": "36",
                                    "1": "CAY - Cayman Islands",
                                    "2": "LATIN AMER. & CARIB    "
                                },
                                {
                                    "0": "37",
                                    "1": "CAF - Central African Republic",
                                    "2": "SUB-SAHARAN AFRICA                 "
                                },
                                {
                                    "0": "38",
                                    "1": "CHA - Chad",
                                    "2": "SUB-SAHARAN AFRICA                 "
                                },
                                {
                                    "0": "39",
                                    "1": "CHI - Chile",
                                    "2": "LATIN AMER. & CARIB    "
                                },
                                {
                                    "0": "40",
                                    "1": "CHN - China",
                                    "2": "ASIA (EX. NEAR EAST)         "
                                },
                                {
                                    "0": "41",
                                    "1": "TPE - Chinese Taipei",
                                    "2": "ASIA (EX. NEAR EAST)         "
                                },
                                {
                                    "0": "42",
                                    "1": "COL - Colombia",
                                    "2": "LATIN AMER. & CARIB    "
                                },
                                {
                                    "0": "43",
                                    "1": "COM - Comoros",
                                    "2": "SUB-SAHARAN AFRICA                 "
                                },
                                {
                                    "0": "44",
                                    "1": "CGO - Congo (Brazzaville)",
                                    "2": "SUB-SAHARAN AFRICA                 "
                                },
                                {
                                    "0": "45",
                                    "1": "COD - Congo (Kinshasa)",
                                    "2": "SUB-SAHARAN AFRICA                 "
                                },
                                {
                                    "0": "46",
                                    "1": "COK - Cook Islands",
                                    "2": "OCEANIA                            "
                                },
                                {
                                    "0": "47",
                                    "1": "CRC - Costa Rica",
                                    "2": "LATIN AMER. & CARIB    "
                                },
                                {
                                    "0": "48",
                                    "1": "CIV - Cote d'Ivoire",
                                    "2": "SUB-SAHARAN AFRICA                 "
                                },
                                {
                                    "0": "49",
                                    "1": "CRO - Croatia",
                                    "2": "EASTERN EUROPE                     "
                                },
                                {
                                    "0": "50",
                                    "1": "CUB - Cuba",
                                    "2": "LATIN AMER. & CARIB    "
                                },
                                {
                                    "0": "51",
                                    "1": "CYP - Cyprus",
                                    "2": "NEAR EAST                          "
                                },
                                {
                                    "0": "52",
                                    "1": "CZE - Czech Republic",
                                    "2": "EASTERN EUROPE                     "
                                },
                                {
                                    "0": "53",
                                    "1": "DEN - Denmark",
                                    "2": "WESTERN EUROPE                     "
                                },
                                {
                                    "0": "54",
                                    "1": "DJI - Djibouti",
                                    "2": "SUB-SAHARAN AFRICA                 "
                                },
                                {
                                    "0": "55",
                                    "1": "DMA - Dominica",
                                    "2": "LATIN AMER. & CARIB    "
                                },
                                {
                                    "0": "56",
                                    "1": "DOM - Dominican Republic",
                                    "2": "LATIN AMER. & CARIB    "
                                },
                                {
                                    "0": "57",
                                    "1": "ECU - Ecuador",
                                    "2": "LATIN AMER. & CARIB    "
                                },
                                {
                                    "0": "58",
                                    "1": "EGY - Egypt",
                                    "2": "NORTHERN AFRICA                    "
                                },
                                {
                                    "0": "59",
                                    "1": "ESA - El Salvador",
                                    "2": "LATIN AMER. & CARIB    "
                                },
                                {
                                    "0": "60",
                                    "1": "GEQ - Equatorial Guinea",
                                    "2": "SUB-SAHARAN AFRICA                 "
                                },
                                {
                                    "0": "61",
                                    "1": "ERI - Eritrea",
                                    "2": "SUB-SAHARAN AFRICA                 "
                                },
                                {
                                    "0": "62",
                                    "1": "EST - Estonia",
                                    "2": "BALTICS                            "
                                },
                                {
                                    "0": "63",
                                    "1": "ETH - Ethiopia",
                                    "2": "SUB-SAHARAN AFRICA                 "
                                },
                                {
                                    "0": "64",
                                    "1": "FSM - Federated States of Micronesia",
                                    "2": "OCEANIA                            "
                                },
                                {
                                    "0": "65",
                                    "1": "FIJ - Fiji",
                                    "2": "OCEANIA                            "
                                },
                                {
                                    "0": "66",
                                    "1": "FIN - Finland",
                                    "2": "WESTERN EUROPE                     "
                                },
                                {
                                    "0": "67",
                                    "1": "FRA - France",
                                    "2": "WESTERN EUROPE                     "
                                },
                                {
                                    "0": "68",
                                    "1": "GAB - Gabon",
                                    "2": "SUB-SAHARAN AFRICA                 "
                                },
                                {
                                    "0": "69",
                                    "1": "GAM - Gambia",
                                    "2": "SUB-SAHARAN AFRICA                 "
                                },
                                {
                                    "0": "70",
                                    "1": "GEO - Georgia",
                                    "2": "C.W. OF IND. STATES "
                                },
                                {
                                    "0": "71",
                                    "1": "GER - Germany",
                                    "2": "WESTERN EUROPE                     "
                                },
                                {
                                    "0": "72",
                                    "1": "GHA - Ghana",
                                    "2": "SUB-SAHARAN AFRICA                 "
                                },
                                {
                                    "0": "73",
                                    "1": "GBR - Great Britain",
                                    "2": "WESTERN EUROPE                     "
                                },
                                {
                                    "0": "74",
                                    "1": "GRE - Greece",
                                    "2": "WESTERN EUROPE                     "
                                },
                                {
                                    "0": "75",
                                    "1": "GRN - Grenada",
                                    "2": "LATIN AMER. & CARIB    "
                                },
                                {
                                    "0": "76",
                                    "1": "GUM - Guam",
                                    "2": "OCEANIA                            "
                                },
                                {
                                    "0": "77",
                                    "1": "GUA - Guatemala",
                                    "2": "LATIN AMER. & CARIB    "
                                },
                                {
                                    "0": "78",
                                    "1": "GUI - Guinea",
                                    "2": "SUB-SAHARAN AFRICA                 "
                                },
                                {
                                    "0": "79",
                                    "1": "GBS - Guinea Bissau",
                                    "2": "SUB-SAHARAN AFRICA                 "
                                },
                                {
                                    "0": "80",
                                    "1": "GUY - Guyana",
                                    "2": "LATIN AMER. & CARIB    "
                                },
                                {
                                    "0": "81",
                                    "1": "HAI - Haiti",
                                    "2": "LATIN AMER. & CARIB    "
                                },
                                {
                                    "0": "82",
                                    "1": "HON - Honduras",
                                    "2": "LATIN AMER. & CARIB    "
                                },
                                {
                                    "0": "83",
                                    "1": "HKG - Hong Kong",
                                    "2": "ASIA (EX. NEAR EAST)         "
                                },
                                {
                                    "0": "84",
                                    "1": "HUN - Hungary",
                                    "2": "EASTERN EUROPE                     "
                                },
                                {
                                    "0": "85",
                                    "1": "ISL - Iceland",
                                    "2": "WESTERN EUROPE                     "
                                },
                                {
                                    "0": "86",
                                    "1": "IND - India",
                                    "2": "ASIA (EX. NEAR EAST)         "
                                },
                                {
                                    "0": "87",
                                    "1": "IOA - Individual Olympic Athletes",
                                    "2": "NULL"
                                },
                                {
                                    "0": "88",
                                    "1": "INA - Indonesia",
                                    "2": "ASIA (EX. NEAR EAST)         "
                                },
                                {
                                    "0": "89",
                                    "1": "IRI - Iran",
                                    "2": "ASIA (EX. NEAR EAST)         "
                                },
                                {
                                    "0": "90",
                                    "1": "IRL - Ireland",
                                    "2": "WESTERN EUROPE                     "
                                },
                                {
                                    "0": "91",
                                    "1": "ISR - Israel",
                                    "2": "NEAR EAST                          "
                                },
                                {
                                    "0": "92",
                                    "1": "ITA - Italy",
                                    "2": "WESTERN EUROPE                     "
                                },
                                {
                                    "0": "93",
                                    "1": "JAM - Jamaica",
                                    "2": "LATIN AMER. & CARIB    "
                                },
                                {
                                    "0": "94",
                                    "1": "JPN - Japan",
                                    "2": "ASIA (EX. NEAR EAST)         "
                                },
                                {
                                    "0": "95",
                                    "1": "JOR - Jordan",
                                    "2": "NEAR EAST                          "
                                },
                                {
                                    "0": "96",
                                    "1": "KAZ - Kazakhstan",
                                    "2": "C.W. OF IND. STATES "
                                },
                                {
                                    "0": "97",
                                    "1": "KEN - Kenya",
                                    "2": "SUB-SAHARAN AFRICA                 "
                                },
                                {
                                    "0": "98",
                                    "1": "KIR - Kiribati",
                                    "2": "OCEANIA                            "
                                },
                                {
                                    "0": "99",
                                    "1": "KOS - Kosovo",
                                    "2": "EASTERN EUROPE                     "
                                },
                                {
                                    "0": "100",
                                    "1": "KGZ - Kyrgyzstan",
                                    "2": "C.W. OF IND. STATES "
                                },
                                {
                                    "0": "101",
                                    "1": "LAO - Laos",
                                    "2": "ASIA (EX. NEAR EAST)         "
                                },
                                {
                                    "0": "102",
                                    "1": "LAT - Latvia",
                                    "2": "BALTICS                            "
                                },
                                {
                                    "0": "103",
                                    "1": "LIB - Lebanon",
                                    "2": "NEAR EAST                          "
                                },
                                {
                                    "0": "104",
                                    "1": "LES - Lesotho",
                                    "2": "SUB-SAHARAN AFRICA                 "
                                },
                                {
                                    "0": "105",
                                    "1": "LBR - Liberia",
                                    "2": "SUB-SAHARAN AFRICA                 "
                                },
                                {
                                    "0": "106",
                                    "1": "LBA - Libya",
                                    "2": "NORTHERN AFRICA                    "
                                },
                                {
                                    "0": "107",
                                    "1": "LIE - Liechtenstein",
                                    "2": "WESTERN EUROPE                     "
                                },
                                {
                                    "0": "108",
                                    "1": "LTU - Lithuania",
                                    "2": "BALTICS                            "
                                },
                                {
                                    "0": "109",
                                    "1": "LUX - Luxembourg",
                                    "2": "WESTERN EUROPE                     "
                                },
                                {
                                    "0": "110",
                                    "1": "MKD - Macedonia",
                                    "2": "EASTERN EUROPE                     "
                                },
                                {
                                    "0": "111",
                                    "1": "MAD - Madagascar",
                                    "2": "SUB-SAHARAN AFRICA                 "
                                },
                                {
                                    "0": "112",
                                    "1": "MAW - Malawi",
                                    "2": "SUB-SAHARAN AFRICA                 "
                                },
                                {
                                    "0": "113",
                                    "1": "MAS - Malaysia",
                                    "2": "ASIA (EX. NEAR EAST)         "
                                },
                                {
                                    "0": "114",
                                    "1": "MDV - Maldives",
                                    "2": "ASIA (EX. NEAR EAST)         "
                                },
                                {
                                    "0": "115",
                                    "1": "MLI - Mali",
                                    "2": "SUB-SAHARAN AFRICA                 "
                                },
                                {
                                    "0": "116",
                                    "1": "MLT - Malta",
                                    "2": "WESTERN EUROPE                     "
                                },
                                {
                                    "0": "117",
                                    "1": "MHL - Marshall Islands",
                                    "2": "OCEANIA                            "
                                },
                                {
                                    "0": "118",
                                    "1": "MTN - Mauritania",
                                    "2": "SUB-SAHARAN AFRICA                 "
                                },
                                {
                                    "0": "119",
                                    "1": "MRI - Mauritius",
                                    "2": "SUB-SAHARAN AFRICA                 "
                                },
                                {
                                    "0": "120",
                                    "1": "MEX - Mexico",
                                    "2": "LATIN AMER. & CARIB    "
                                },
                                {
                                    "0": "121",
                                    "1": "MDA - Moldova",
                                    "2": "C.W. OF IND. STATES "
                                },
                                {
                                    "0": "122",
                                    "1": "MON - Monaco",
                                    "2": "WESTERN EUROPE                     "
                                },
                                {
                                    "0": "123",
                                    "1": "MGL - Mongolia",
                                    "2": "ASIA (EX. NEAR EAST)         "
                                },
                                {
                                    "0": "124",
                                    "1": "MNE - Montenegro",
                                    "2": "EASTERN EUROPE                     "
                                },
                                {
                                    "0": "125",
                                    "1": "MAR - Morocco",
                                    "2": "NORTHERN AFRICA                    "
                                },
                                {
                                    "0": "126",
                                    "1": "MOZ - Mozambique",
                                    "2": "SUB-SAHARAN AFRICA                 "
                                },
                                {
                                    "0": "127",
                                    "1": "MYA - Myanmar",
                                    "2": "EASTERN EUROPE                     "
                                },
                                {
                                    "0": "128",
                                    "1": "NAM - Namibia",
                                    "2": "SUB-SAHARAN AFRICA                 "
                                },
                                {
                                    "0": "129",
                                    "1": "NEP - Nepal",
                                    "2": "ASIA (EX. NEAR EAST)         "
                                },
                                {
                                    "0": "130",
                                    "1": "NED - Netherlands",
                                    "2": "WESTERN EUROPE                     "
                                },
                                {
                                    "0": "131",
                                    "1": "NZL - New Zealand",
                                    "2": "OCEANIA                            "
                                },
                                {
                                    "0": "132",
                                    "1": "NCA - Nicaragua",
                                    "2": "LATIN AMER. & CARIB    "
                                },
                                {
                                    "0": "133",
                                    "1": "NIG - Niger",
                                    "2": "SUB-SAHARAN AFRICA                 "
                                },
                                {
                                    "0": "134",
                                    "1": "NGR - Nigeria",
                                    "2": "SUB-SAHARAN AFRICA                 "
                                },
                                {
                                    "0": "135",
                                    "1": "PRK - North Korea",
                                    "2": "ASIA (EX. NEAR EAST)         "
                                },
                                {
                                    "0": "136",
                                    "1": "NOR - Norway",
                                    "2": "WESTERN EUROPE                     "
                                },
                                {
                                    "0": "137",
                                    "1": "OMA - Oman",
                                    "2": "NEAR EAST                          "
                                },
                                {
                                    "0": "138",
                                    "1": "PAK - Pakistan",
                                    "2": "ASIA (EX. NEAR EAST)         "
                                },
                                {
                                    "0": "139",
                                    "1": "PLW - Palau",
                                    "2": "OCEANIA                            "
                                },
                                {
                                    "0": "140",
                                    "1": "PLE - Palestine",
                                    "2": "ASIA (EX. NEAR EAST)         "
                                },
                                {
                                    "0": "141",
                                    "1": "PAN - Panama",
                                    "2": "LATIN AMER. & CARIB    "
                                },
                                {
                                    "0": "142",
                                    "1": "PNG - Papua New Guinea",
                                    "2": "OCEANIA                            "
                                },
                                {
                                    "0": "143",
                                    "1": "PAR - Paraguay",
                                    "2": "LATIN AMER. & CARIB    "
                                },
                                {
                                    "0": "144",
                                    "1": "PER - Peru",
                                    "2": "LATIN AMER. & CARIB    "
                                },
                                {
                                    "0": "145",
                                    "1": "PHI - Philippines",
                                    "2": "ASIA (EX. NEAR EAST)         "
                                },
                                {
                                    "0": "146",
                                    "1": "POL - Poland",
                                    "2": "EASTERN EUROPE                     "
                                },
                                {
                                    "0": "147",
                                    "1": "POR - Portugal",
                                    "2": "WESTERN EUROPE                     "
                                },
                                {
                                    "0": "148",
                                    "1": "PUR - Puerto Rico",
                                    "2": "LATIN AMER. & CARIB    "
                                },
                                {
                                    "0": "149",
                                    "1": "QAT - Qatar",
                                    "2": "NEAR EAST                          "
                                },
                                {
                                    "0": "150",
                                    "1": "ROT - Refugee Olympic Athletes",
                                    "2": "NULL"
                                },
                                {
                                    "0": "151",
                                    "1": "ROU - Romania",
                                    "2": "EASTERN EUROPE                     "
                                },
                                {
                                    "0": "152",
                                    "1": "RUS - Russia",
                                    "2": "C.W. OF IND. STATES "
                                },
                                {
                                    "0": "153",
                                    "1": "RWA - Rwanda",
                                    "2": "SUB-SAHARAN AFRICA                 "
                                },
                                {
                                    "0": "154",
                                    "1": "SKN - Saint Kitts and Nevis",
                                    "2": "LATIN AMER. & CARIB    "
                                },
                                {
                                    "0": "155",
                                    "1": "LCA - Saint Lucia",
                                    "2": "LATIN AMER. & CARIB    "
                                },
                                {
                                    "0": "156",
                                    "1": "VIN - Saint Vincent and the Grenadines",
                                    "2": "LATIN AMER. & CARIB    "
                                },
                                {
                                    "0": "157",
                                    "1": "SAM - Samoa",
                                    "2": "OCEANIA                            "
                                },
                                {
                                    "0": "158",
                                    "1": "SMR - San Marino",
                                    "2": "WESTERN EUROPE                     "
                                },
                                {
                                    "0": "159",
                                    "1": "STP - Sao Tome and Principe",
                                    "2": "SUB-SAHARAN AFRICA                 "
                                },
                                {
                                    "0": "160",
                                    "1": "KSA - Saudi Arabia",
                                    "2": "NEAR EAST                          "
                                },
                                {
                                    "0": "161",
                                    "1": "SEN - Senegal",
                                    "2": "SUB-SAHARAN AFRICA                 "
                                },
                                {
                                    "0": "162",
                                    "1": "SRB - Serbia",
                                    "2": "EASTERN EUROPE                     "
                                },
                                {
                                    "0": "163",
                                    "1": "SEY - Seychelles",
                                    "2": "SUB-SAHARAN AFRICA                 "
                                },
                                {
                                    "0": "164",
                                    "1": "SLE - Sierra Leone",
                                    "2": "SUB-SAHARAN AFRICA                 "
                                },
                                {
                                    "0": "165",
                                    "1": "SGP - Singapore",
                                    "2": "ASIA (EX. NEAR EAST)         "
                                },
                                {
                                    "0": "166",
                                    "1": "SVK - Slovakia",
                                    "2": "EASTERN EUROPE                     "
                                },
                                {
                                    "0": "167",
                                    "1": "SLO - Slovenia",
                                    "2": "EASTERN EUROPE                     "
                                },
                                {
                                    "0": "168",
                                    "1": "SOL - Solomon Islands",
                                    "2": "OCEANIA                            "
                                },
                                {
                                    "0": "169",
                                    "1": "SOM - Somalia",
                                    "2": "SUB-SAHARAN AFRICA                 "
                                },
                                {
                                    "0": "170",
                                    "1": "RSA - South Africa",
                                    "2": "SUB-SAHARAN AFRICA                 "
                                },
                                {
                                    "0": "171",
                                    "1": "KOR - South Korea",
                                    "2": "ASIA (EX. NEAR EAST)         "
                                },
                                {
                                    "0": "172",
                                    "1": "SSD - South Sudan",
                                    "2": "SUB-SAHARAN AFRICA                 "
                                },
                                {
                                    "0": "173",
                                    "1": "ESP - Spain",
                                    "2": "WESTERN EUROPE                     "
                                },
                                {
                                    "0": "174",
                                    "1": "SRI - Sri Lanka",
                                    "2": "ASIA (EX. NEAR EAST)         "
                                },
                                {
                                    "0": "175",
                                    "1": "SUD - Sudan",
                                    "2": "SUB-SAHARAN AFRICA                 "
                                },
                                {
                                    "0": "176",
                                    "1": "SUR - Suriname",
                                    "2": "LATIN AMER. & CARIB    "
                                },
                                {
                                    "0": "177",
                                    "1": "SWZ - Swaziland",
                                    "2": "SUB-SAHARAN AFRICA                 "
                                },
                                {
                                    "0": "178",
                                    "1": "SWE - Sweden",
                                    "2": "WESTERN EUROPE                     "
                                },
                                {
                                    "0": "179",
                                    "1": "SUI - Switzerland",
                                    "2": "WESTERN EUROPE                     "
                                },
                                {
                                    "0": "180",
                                    "1": "SYR - Syria",
                                    "2": "NEAR EAST                          "
                                },
                                {
                                    "0": "181",
                                    "1": "TJK - Tajikistan",
                                    "2": "C.W. OF IND. STATES "
                                },
                                {
                                    "0": "182",
                                    "1": "TAN - Tanzania",
                                    "2": "SUB-SAHARAN AFRICA                 "
                                },
                                {
                                    "0": "183",
                                    "1": "THA - Thailand",
                                    "2": "ASIA (EX. NEAR EAST)         "
                                },
                                {
                                    "0": "184",
                                    "1": "TLS - Timor Leste",
                                    "2": "ASIA (EX. NEAR EAST)         "
                                },
                                {
                                    "0": "185",
                                    "1": "TOG - Togo",
                                    "2": "SUB-SAHARAN AFRICA                 "
                                },
                                {
                                    "0": "186",
                                    "1": "TGA - Tonga",
                                    "2": "OCEANIA                            "
                                },
                                {
                                    "0": "187",
                                    "1": "TTO - Trinidad and Tobago",
                                    "2": "LATIN AMER. & CARIB    "
                                },
                                {
                                    "0": "188",
                                    "1": "TUN - Tunisia",
                                    "2": "NORTHERN AFRICA                    "
                                },
                                {
                                    "0": "189",
                                    "1": "TUR - Turkey",
                                    "2": "NEAR EAST                          "
                                },
                                {
                                    "0": "190",
                                    "1": "TKM - Turkmenistan",
                                    "2": "C.W. OF IND. STATES "
                                },
                                {
                                    "0": "191",
                                    "1": "TUV - Tuvalu",
                                    "2": "OCEANIA                            "
                                },
                                {
                                    "0": "192",
                                    "1": "UGA - Uganda",
                                    "2": "SUB-SAHARAN AFRICA                 "
                                },
                                {
                                    "0": "193",
                                    "1": "UKR - Ukraine",
                                    "2": "C.W. OF IND. STATES "
                                },
                                {
                                    "0": "194",
                                    "1": "UAE - United Arab Emirates",
                                    "2": "NEAR EAST                          "
                                },
                                {
                                    "0": "195",
                                    "1": "USA - United States",
                                    "2": "NORTHERN AMERICA                   "
                                },
                                {
                                    "0": "196",
                                    "1": "ISV - United States Virgin Islands",
                                    "2": "LATIN AMER. & CARIB    "
                                },
                                {
                                    "0": "197",
                                    "1": "URU - Uruguay",
                                    "2": "LATIN AMER. & CARIB    "
                                },
                                {
                                    "0": "198",
                                    "1": "UZB - Uzbekistan",
                                    "2": "C.W. OF IND. STATES "
                                },
                                {
                                    "0": "199",
                                    "1": "VEN - Venezuela",
                                    "2": "LATIN AMER. & CARIB    "
                                },
                                {
                                    "0": "200",
                                    "1": "VIE - Vietnam",
                                    "2": "ASIA (EX. NEAR EAST)         "
                                },
                                {
                                    "0": "201",
                                    "1": "YEM - Yemen",
                                    "2": "NEAR EAST                          "
                                },
                                {
                                    "0": "202",
                                    "1": "ZAM - Zambia",
                                    "2": "SUB-SAHARAN AFRICA                 "
                                },
                                {
                                    "0": "203",
                                    "1": "ZIM - Zimbabwe",
                                    "2": "SUB-SAHARAN AFRICA                 "
                                }
                            ]
                        },
                        "text/html": [
                            "<table>",
                            "<tr><th>id</th><th>country</th><th>region</th></tr>",
                            "<tr><td>1</td><td>AFG - Afghanistan</td><td>ASIA (EX. NEAR EAST)         </td></tr>",
                            "<tr><td>2</td><td>ALB - Albania</td><td>EASTERN EUROPE                     </td></tr>",
                            "<tr><td>3</td><td>ALG - Algeria</td><td>NORTHERN AFRICA                    </td></tr>",
                            "<tr><td>4</td><td>ASA - American Samoa</td><td>OCEANIA                            </td></tr>",
                            "<tr><td>5</td><td>AND - Andorra</td><td>WESTERN EUROPE                     </td></tr>",
                            "<tr><td>6</td><td>ANG - Angola</td><td>SUB-SAHARAN AFRICA                 </td></tr>",
                            "<tr><td>7</td><td>ANT - Antigua and Barbuda</td><td>LATIN AMER. &amp; CARIB    </td></tr>",
                            "<tr><td>8</td><td>ARG - Argentina</td><td>LATIN AMER. &amp; CARIB    </td></tr>",
                            "<tr><td>9</td><td>ARM - Armenia</td><td>C.W. OF IND. STATES </td></tr>",
                            "<tr><td>10</td><td>ARU - Aruba</td><td>LATIN AMER. &amp; CARIB    </td></tr>",
                            "<tr><td>11</td><td>AUS - Australia</td><td>OCEANIA                            </td></tr>",
                            "<tr><td>12</td><td>AUT - Austria</td><td>WESTERN EUROPE                     </td></tr>",
                            "<tr><td>13</td><td>AZE - Azerbaijan</td><td>C.W. OF IND. STATES </td></tr>",
                            "<tr><td>14</td><td>BAH - Bahamas</td><td>LATIN AMER. &amp; CARIB    </td></tr>",
                            "<tr><td>15</td><td>BRN - Bahrain</td><td>NEAR EAST                          </td></tr>",
                            "<tr><td>16</td><td>BAN - Bangladesh</td><td>ASIA (EX. NEAR EAST)         </td></tr>",
                            "<tr><td>17</td><td>BAR - Barbados</td><td>LATIN AMER. &amp; CARIB    </td></tr>",
                            "<tr><td>18</td><td>BLR - Belarus</td><td>C.W. OF IND. STATES </td></tr>",
                            "<tr><td>19</td><td>BEL - Belgium</td><td>WESTERN EUROPE                     </td></tr>",
                            "<tr><td>20</td><td>BIZ - Belize</td><td>LATIN AMER. &amp; CARIB    </td></tr>",
                            "<tr><td>21</td><td>BEN - Benin</td><td>SUB-SAHARAN AFRICA                 </td></tr>",
                            "<tr><td>22</td><td>BER - Bermuda</td><td>NORTHERN AMERICA                   </td></tr>",
                            "<tr><td>23</td><td>BOL - Bolivia</td><td>LATIN AMER. &amp; CARIB    </td></tr>",
                            "<tr><td>24</td><td>BIH - Bosnia and Herzegovina</td><td>EASTERN EUROPE                     </td></tr>",
                            "<tr><td>25</td><td>BOT - Botswana</td><td>SUB-SAHARAN AFRICA                 </td></tr>",
                            "<tr><td>26</td><td>BRA - Brazil</td><td>LATIN AMER. &amp; CARIB    </td></tr>",
                            "<tr><td>27</td><td>IVB - British Virgin Islands</td><td>LATIN AMER. &amp; CARIB    </td></tr>",
                            "<tr><td>28</td><td>BRU - Brunei</td><td>ASIA (EX. NEAR EAST)         </td></tr>",
                            "<tr><td>29</td><td>BUL - Bulgaria</td><td>EASTERN EUROPE                     </td></tr>",
                            "<tr><td>30</td><td>BUR - Burkina Faso</td><td>SUB-SAHARAN AFRICA                 </td></tr>",
                            "<tr><td>31</td><td>BDI - Burundi</td><td>SUB-SAHARAN AFRICA                 </td></tr>",
                            "<tr><td>32</td><td>CAM - Cambodia</td><td>ASIA (EX. NEAR EAST)         </td></tr>",
                            "<tr><td>33</td><td>CMR - Cameroon</td><td>SUB-SAHARAN AFRICA                 </td></tr>",
                            "<tr><td>34</td><td>CAN - Canada</td><td>NORTHERN AMERICA                   </td></tr>",
                            "<tr><td>35</td><td>CPV - Cape Verde</td><td>SUB-SAHARAN AFRICA                 </td></tr>",
                            "<tr><td>36</td><td>CAY - Cayman Islands</td><td>LATIN AMER. &amp; CARIB    </td></tr>",
                            "<tr><td>37</td><td>CAF - Central African Republic</td><td>SUB-SAHARAN AFRICA                 </td></tr>",
                            "<tr><td>38</td><td>CHA - Chad</td><td>SUB-SAHARAN AFRICA                 </td></tr>",
                            "<tr><td>39</td><td>CHI - Chile</td><td>LATIN AMER. &amp; CARIB    </td></tr>",
                            "<tr><td>40</td><td>CHN - China</td><td>ASIA (EX. NEAR EAST)         </td></tr>",
                            "<tr><td>41</td><td>TPE - Chinese Taipei</td><td>ASIA (EX. NEAR EAST)         </td></tr>",
                            "<tr><td>42</td><td>COL - Colombia</td><td>LATIN AMER. &amp; CARIB    </td></tr>",
                            "<tr><td>43</td><td>COM - Comoros</td><td>SUB-SAHARAN AFRICA                 </td></tr>",
                            "<tr><td>44</td><td>CGO - Congo (Brazzaville)</td><td>SUB-SAHARAN AFRICA                 </td></tr>",
                            "<tr><td>45</td><td>COD - Congo (Kinshasa)</td><td>SUB-SAHARAN AFRICA                 </td></tr>",
                            "<tr><td>46</td><td>COK - Cook Islands</td><td>OCEANIA                            </td></tr>",
                            "<tr><td>47</td><td>CRC - Costa Rica</td><td>LATIN AMER. &amp; CARIB    </td></tr>",
                            "<tr><td>48</td><td>CIV - Cote d'Ivoire</td><td>SUB-SAHARAN AFRICA                 </td></tr>",
                            "<tr><td>49</td><td>CRO - Croatia</td><td>EASTERN EUROPE                     </td></tr>",
                            "<tr><td>50</td><td>CUB - Cuba</td><td>LATIN AMER. &amp; CARIB    </td></tr>",
                            "<tr><td>51</td><td>CYP - Cyprus</td><td>NEAR EAST                          </td></tr>",
                            "<tr><td>52</td><td>CZE - Czech Republic</td><td>EASTERN EUROPE                     </td></tr>",
                            "<tr><td>53</td><td>DEN - Denmark</td><td>WESTERN EUROPE                     </td></tr>",
                            "<tr><td>54</td><td>DJI - Djibouti</td><td>SUB-SAHARAN AFRICA                 </td></tr>",
                            "<tr><td>55</td><td>DMA - Dominica</td><td>LATIN AMER. &amp; CARIB    </td></tr>",
                            "<tr><td>56</td><td>DOM - Dominican Republic</td><td>LATIN AMER. &amp; CARIB    </td></tr>",
                            "<tr><td>57</td><td>ECU - Ecuador</td><td>LATIN AMER. &amp; CARIB    </td></tr>",
                            "<tr><td>58</td><td>EGY - Egypt</td><td>NORTHERN AFRICA                    </td></tr>",
                            "<tr><td>59</td><td>ESA - El Salvador</td><td>LATIN AMER. &amp; CARIB    </td></tr>",
                            "<tr><td>60</td><td>GEQ - Equatorial Guinea</td><td>SUB-SAHARAN AFRICA                 </td></tr>",
                            "<tr><td>61</td><td>ERI - Eritrea</td><td>SUB-SAHARAN AFRICA                 </td></tr>",
                            "<tr><td>62</td><td>EST - Estonia</td><td>BALTICS                            </td></tr>",
                            "<tr><td>63</td><td>ETH - Ethiopia</td><td>SUB-SAHARAN AFRICA                 </td></tr>",
                            "<tr><td>64</td><td>FSM - Federated States of Micronesia</td><td>OCEANIA                            </td></tr>",
                            "<tr><td>65</td><td>FIJ - Fiji</td><td>OCEANIA                            </td></tr>",
                            "<tr><td>66</td><td>FIN - Finland</td><td>WESTERN EUROPE                     </td></tr>",
                            "<tr><td>67</td><td>FRA - France</td><td>WESTERN EUROPE                     </td></tr>",
                            "<tr><td>68</td><td>GAB - Gabon</td><td>SUB-SAHARAN AFRICA                 </td></tr>",
                            "<tr><td>69</td><td>GAM - Gambia</td><td>SUB-SAHARAN AFRICA                 </td></tr>",
                            "<tr><td>70</td><td>GEO - Georgia</td><td>C.W. OF IND. STATES </td></tr>",
                            "<tr><td>71</td><td>GER - Germany</td><td>WESTERN EUROPE                     </td></tr>",
                            "<tr><td>72</td><td>GHA - Ghana</td><td>SUB-SAHARAN AFRICA                 </td></tr>",
                            "<tr><td>73</td><td>GBR - Great Britain</td><td>WESTERN EUROPE                     </td></tr>",
                            "<tr><td>74</td><td>GRE - Greece</td><td>WESTERN EUROPE                     </td></tr>",
                            "<tr><td>75</td><td>GRN - Grenada</td><td>LATIN AMER. &amp; CARIB    </td></tr>",
                            "<tr><td>76</td><td>GUM - Guam</td><td>OCEANIA                            </td></tr>",
                            "<tr><td>77</td><td>GUA - Guatemala</td><td>LATIN AMER. &amp; CARIB    </td></tr>",
                            "<tr><td>78</td><td>GUI - Guinea</td><td>SUB-SAHARAN AFRICA                 </td></tr>",
                            "<tr><td>79</td><td>GBS - Guinea Bissau</td><td>SUB-SAHARAN AFRICA                 </td></tr>",
                            "<tr><td>80</td><td>GUY - Guyana</td><td>LATIN AMER. &amp; CARIB    </td></tr>",
                            "<tr><td>81</td><td>HAI - Haiti</td><td>LATIN AMER. &amp; CARIB    </td></tr>",
                            "<tr><td>82</td><td>HON - Honduras</td><td>LATIN AMER. &amp; CARIB    </td></tr>",
                            "<tr><td>83</td><td>HKG - Hong Kong</td><td>ASIA (EX. NEAR EAST)         </td></tr>",
                            "<tr><td>84</td><td>HUN - Hungary</td><td>EASTERN EUROPE                     </td></tr>",
                            "<tr><td>85</td><td>ISL - Iceland</td><td>WESTERN EUROPE                     </td></tr>",
                            "<tr><td>86</td><td>IND - India</td><td>ASIA (EX. NEAR EAST)         </td></tr>",
                            "<tr><td>87</td><td>IOA - Individual Olympic Athletes</td><td>NULL</td></tr>",
                            "<tr><td>88</td><td>INA - Indonesia</td><td>ASIA (EX. NEAR EAST)         </td></tr>",
                            "<tr><td>89</td><td>IRI - Iran</td><td>ASIA (EX. NEAR EAST)         </td></tr>",
                            "<tr><td>90</td><td>IRL - Ireland</td><td>WESTERN EUROPE                     </td></tr>",
                            "<tr><td>91</td><td>ISR - Israel</td><td>NEAR EAST                          </td></tr>",
                            "<tr><td>92</td><td>ITA - Italy</td><td>WESTERN EUROPE                     </td></tr>",
                            "<tr><td>93</td><td>JAM - Jamaica</td><td>LATIN AMER. &amp; CARIB    </td></tr>",
                            "<tr><td>94</td><td>JPN - Japan</td><td>ASIA (EX. NEAR EAST)         </td></tr>",
                            "<tr><td>95</td><td>JOR - Jordan</td><td>NEAR EAST                          </td></tr>",
                            "<tr><td>96</td><td>KAZ - Kazakhstan</td><td>C.W. OF IND. STATES </td></tr>",
                            "<tr><td>97</td><td>KEN - Kenya</td><td>SUB-SAHARAN AFRICA                 </td></tr>",
                            "<tr><td>98</td><td>KIR - Kiribati</td><td>OCEANIA                            </td></tr>",
                            "<tr><td>99</td><td>KOS - Kosovo</td><td>EASTERN EUROPE                     </td></tr>",
                            "<tr><td>100</td><td>KGZ - Kyrgyzstan</td><td>C.W. OF IND. STATES </td></tr>",
                            "<tr><td>101</td><td>LAO - Laos</td><td>ASIA (EX. NEAR EAST)         </td></tr>",
                            "<tr><td>102</td><td>LAT - Latvia</td><td>BALTICS                            </td></tr>",
                            "<tr><td>103</td><td>LIB - Lebanon</td><td>NEAR EAST                          </td></tr>",
                            "<tr><td>104</td><td>LES - Lesotho</td><td>SUB-SAHARAN AFRICA                 </td></tr>",
                            "<tr><td>105</td><td>LBR - Liberia</td><td>SUB-SAHARAN AFRICA                 </td></tr>",
                            "<tr><td>106</td><td>LBA - Libya</td><td>NORTHERN AFRICA                    </td></tr>",
                            "<tr><td>107</td><td>LIE - Liechtenstein</td><td>WESTERN EUROPE                     </td></tr>",
                            "<tr><td>108</td><td>LTU - Lithuania</td><td>BALTICS                            </td></tr>",
                            "<tr><td>109</td><td>LUX - Luxembourg</td><td>WESTERN EUROPE                     </td></tr>",
                            "<tr><td>110</td><td>MKD - Macedonia</td><td>EASTERN EUROPE                     </td></tr>",
                            "<tr><td>111</td><td>MAD - Madagascar</td><td>SUB-SAHARAN AFRICA                 </td></tr>",
                            "<tr><td>112</td><td>MAW - Malawi</td><td>SUB-SAHARAN AFRICA                 </td></tr>",
                            "<tr><td>113</td><td>MAS - Malaysia</td><td>ASIA (EX. NEAR EAST)         </td></tr>",
                            "<tr><td>114</td><td>MDV - Maldives</td><td>ASIA (EX. NEAR EAST)         </td></tr>",
                            "<tr><td>115</td><td>MLI - Mali</td><td>SUB-SAHARAN AFRICA                 </td></tr>",
                            "<tr><td>116</td><td>MLT - Malta</td><td>WESTERN EUROPE                     </td></tr>",
                            "<tr><td>117</td><td>MHL - Marshall Islands</td><td>OCEANIA                            </td></tr>",
                            "<tr><td>118</td><td>MTN - Mauritania</td><td>SUB-SAHARAN AFRICA                 </td></tr>",
                            "<tr><td>119</td><td>MRI - Mauritius</td><td>SUB-SAHARAN AFRICA                 </td></tr>",
                            "<tr><td>120</td><td>MEX - Mexico</td><td>LATIN AMER. &amp; CARIB    </td></tr>",
                            "<tr><td>121</td><td>MDA - Moldova</td><td>C.W. OF IND. STATES </td></tr>",
                            "<tr><td>122</td><td>MON - Monaco</td><td>WESTERN EUROPE                     </td></tr>",
                            "<tr><td>123</td><td>MGL - Mongolia</td><td>ASIA (EX. NEAR EAST)         </td></tr>",
                            "<tr><td>124</td><td>MNE - Montenegro</td><td>EASTERN EUROPE                     </td></tr>",
                            "<tr><td>125</td><td>MAR - Morocco</td><td>NORTHERN AFRICA                    </td></tr>",
                            "<tr><td>126</td><td>MOZ - Mozambique</td><td>SUB-SAHARAN AFRICA                 </td></tr>",
                            "<tr><td>127</td><td>MYA - Myanmar</td><td>EASTERN EUROPE                     </td></tr>",
                            "<tr><td>128</td><td>NAM - Namibia</td><td>SUB-SAHARAN AFRICA                 </td></tr>",
                            "<tr><td>129</td><td>NEP - Nepal</td><td>ASIA (EX. NEAR EAST)         </td></tr>",
                            "<tr><td>130</td><td>NED - Netherlands</td><td>WESTERN EUROPE                     </td></tr>",
                            "<tr><td>131</td><td>NZL - New Zealand</td><td>OCEANIA                            </td></tr>",
                            "<tr><td>132</td><td>NCA - Nicaragua</td><td>LATIN AMER. &amp; CARIB    </td></tr>",
                            "<tr><td>133</td><td>NIG - Niger</td><td>SUB-SAHARAN AFRICA                 </td></tr>",
                            "<tr><td>134</td><td>NGR - Nigeria</td><td>SUB-SAHARAN AFRICA                 </td></tr>",
                            "<tr><td>135</td><td>PRK - North Korea</td><td>ASIA (EX. NEAR EAST)         </td></tr>",
                            "<tr><td>136</td><td>NOR - Norway</td><td>WESTERN EUROPE                     </td></tr>",
                            "<tr><td>137</td><td>OMA - Oman</td><td>NEAR EAST                          </td></tr>",
                            "<tr><td>138</td><td>PAK - Pakistan</td><td>ASIA (EX. NEAR EAST)         </td></tr>",
                            "<tr><td>139</td><td>PLW - Palau</td><td>OCEANIA                            </td></tr>",
                            "<tr><td>140</td><td>PLE - Palestine</td><td>ASIA (EX. NEAR EAST)         </td></tr>",
                            "<tr><td>141</td><td>PAN - Panama</td><td>LATIN AMER. &amp; CARIB    </td></tr>",
                            "<tr><td>142</td><td>PNG - Papua New Guinea</td><td>OCEANIA                            </td></tr>",
                            "<tr><td>143</td><td>PAR - Paraguay</td><td>LATIN AMER. &amp; CARIB    </td></tr>",
                            "<tr><td>144</td><td>PER - Peru</td><td>LATIN AMER. &amp; CARIB    </td></tr>",
                            "<tr><td>145</td><td>PHI - Philippines</td><td>ASIA (EX. NEAR EAST)         </td></tr>",
                            "<tr><td>146</td><td>POL - Poland</td><td>EASTERN EUROPE                     </td></tr>",
                            "<tr><td>147</td><td>POR - Portugal</td><td>WESTERN EUROPE                     </td></tr>",
                            "<tr><td>148</td><td>PUR - Puerto Rico</td><td>LATIN AMER. &amp; CARIB    </td></tr>",
                            "<tr><td>149</td><td>QAT - Qatar</td><td>NEAR EAST                          </td></tr>",
                            "<tr><td>150</td><td>ROT - Refugee Olympic Athletes</td><td>NULL</td></tr>",
                            "<tr><td>151</td><td>ROU - Romania</td><td>EASTERN EUROPE                     </td></tr>",
                            "<tr><td>152</td><td>RUS - Russia</td><td>C.W. OF IND. STATES </td></tr>",
                            "<tr><td>153</td><td>RWA - Rwanda</td><td>SUB-SAHARAN AFRICA                 </td></tr>",
                            "<tr><td>154</td><td>SKN - Saint Kitts and Nevis</td><td>LATIN AMER. &amp; CARIB    </td></tr>",
                            "<tr><td>155</td><td>LCA - Saint Lucia</td><td>LATIN AMER. &amp; CARIB    </td></tr>",
                            "<tr><td>156</td><td>VIN - Saint Vincent and the Grenadines</td><td>LATIN AMER. &amp; CARIB    </td></tr>",
                            "<tr><td>157</td><td>SAM - Samoa</td><td>OCEANIA                            </td></tr>",
                            "<tr><td>158</td><td>SMR - San Marino</td><td>WESTERN EUROPE                     </td></tr>",
                            "<tr><td>159</td><td>STP - Sao Tome and Principe</td><td>SUB-SAHARAN AFRICA                 </td></tr>",
                            "<tr><td>160</td><td>KSA - Saudi Arabia</td><td>NEAR EAST                          </td></tr>",
                            "<tr><td>161</td><td>SEN - Senegal</td><td>SUB-SAHARAN AFRICA                 </td></tr>",
                            "<tr><td>162</td><td>SRB - Serbia</td><td>EASTERN EUROPE                     </td></tr>",
                            "<tr><td>163</td><td>SEY - Seychelles</td><td>SUB-SAHARAN AFRICA                 </td></tr>",
                            "<tr><td>164</td><td>SLE - Sierra Leone</td><td>SUB-SAHARAN AFRICA                 </td></tr>",
                            "<tr><td>165</td><td>SGP - Singapore</td><td>ASIA (EX. NEAR EAST)         </td></tr>",
                            "<tr><td>166</td><td>SVK - Slovakia</td><td>EASTERN EUROPE                     </td></tr>",
                            "<tr><td>167</td><td>SLO - Slovenia</td><td>EASTERN EUROPE                     </td></tr>",
                            "<tr><td>168</td><td>SOL - Solomon Islands</td><td>OCEANIA                            </td></tr>",
                            "<tr><td>169</td><td>SOM - Somalia</td><td>SUB-SAHARAN AFRICA                 </td></tr>",
                            "<tr><td>170</td><td>RSA - South Africa</td><td>SUB-SAHARAN AFRICA                 </td></tr>",
                            "<tr><td>171</td><td>KOR - South Korea</td><td>ASIA (EX. NEAR EAST)         </td></tr>",
                            "<tr><td>172</td><td>SSD - South Sudan</td><td>SUB-SAHARAN AFRICA                 </td></tr>",
                            "<tr><td>173</td><td>ESP - Spain</td><td>WESTERN EUROPE                     </td></tr>",
                            "<tr><td>174</td><td>SRI - Sri Lanka</td><td>ASIA (EX. NEAR EAST)         </td></tr>",
                            "<tr><td>175</td><td>SUD - Sudan</td><td>SUB-SAHARAN AFRICA                 </td></tr>",
                            "<tr><td>176</td><td>SUR - Suriname</td><td>LATIN AMER. &amp; CARIB    </td></tr>",
                            "<tr><td>177</td><td>SWZ - Swaziland</td><td>SUB-SAHARAN AFRICA                 </td></tr>",
                            "<tr><td>178</td><td>SWE - Sweden</td><td>WESTERN EUROPE                     </td></tr>",
                            "<tr><td>179</td><td>SUI - Switzerland</td><td>WESTERN EUROPE                     </td></tr>",
                            "<tr><td>180</td><td>SYR - Syria</td><td>NEAR EAST                          </td></tr>",
                            "<tr><td>181</td><td>TJK - Tajikistan</td><td>C.W. OF IND. STATES </td></tr>",
                            "<tr><td>182</td><td>TAN - Tanzania</td><td>SUB-SAHARAN AFRICA                 </td></tr>",
                            "<tr><td>183</td><td>THA - Thailand</td><td>ASIA (EX. NEAR EAST)         </td></tr>",
                            "<tr><td>184</td><td>TLS - Timor Leste</td><td>ASIA (EX. NEAR EAST)         </td></tr>",
                            "<tr><td>185</td><td>TOG - Togo</td><td>SUB-SAHARAN AFRICA                 </td></tr>",
                            "<tr><td>186</td><td>TGA - Tonga</td><td>OCEANIA                            </td></tr>",
                            "<tr><td>187</td><td>TTO - Trinidad and Tobago</td><td>LATIN AMER. &amp; CARIB    </td></tr>",
                            "<tr><td>188</td><td>TUN - Tunisia</td><td>NORTHERN AFRICA                    </td></tr>",
                            "<tr><td>189</td><td>TUR - Turkey</td><td>NEAR EAST                          </td></tr>",
                            "<tr><td>190</td><td>TKM - Turkmenistan</td><td>C.W. OF IND. STATES </td></tr>",
                            "<tr><td>191</td><td>TUV - Tuvalu</td><td>OCEANIA                            </td></tr>",
                            "<tr><td>192</td><td>UGA - Uganda</td><td>SUB-SAHARAN AFRICA                 </td></tr>",
                            "<tr><td>193</td><td>UKR - Ukraine</td><td>C.W. OF IND. STATES </td></tr>",
                            "<tr><td>194</td><td>UAE - United Arab Emirates</td><td>NEAR EAST                          </td></tr>",
                            "<tr><td>195</td><td>USA - United States</td><td>NORTHERN AMERICA                   </td></tr>",
                            "<tr><td>196</td><td>ISV - United States Virgin Islands</td><td>LATIN AMER. &amp; CARIB    </td></tr>",
                            "<tr><td>197</td><td>URU - Uruguay</td><td>LATIN AMER. &amp; CARIB    </td></tr>",
                            "<tr><td>198</td><td>UZB - Uzbekistan</td><td>C.W. OF IND. STATES </td></tr>",
                            "<tr><td>199</td><td>VEN - Venezuela</td><td>LATIN AMER. &amp; CARIB    </td></tr>",
                            "<tr><td>200</td><td>VIE - Vietnam</td><td>ASIA (EX. NEAR EAST)         </td></tr>",
                            "<tr><td>201</td><td>YEM - Yemen</td><td>NEAR EAST                          </td></tr>",
                            "<tr><td>202</td><td>ZAM - Zambia</td><td>SUB-SAHARAN AFRICA                 </td></tr>",
                            "<tr><td>203</td><td>ZIM - Zimbabwe</td><td>SUB-SAHARAN AFRICA                 </td></tr>",
                            "</table>"
                        ]
                    }
                }
            ],
            "execution_count": 1
        }
    ]
}